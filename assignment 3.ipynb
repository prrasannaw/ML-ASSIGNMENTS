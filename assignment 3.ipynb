{
 "cells": [
  {
   "cell_type": "code",
   "execution_count": 7,
   "metadata": {},
   "outputs": [
    {
     "name": "stdout",
     "output_type": "stream",
     "text": [
      "division by zero!!\n"
     ]
    }
   ],
   "source": [
    "#Write a function to compute 5/0 and use try/except to catch the exceptions.\n",
    "\n",
    "def div():\n",
    "    return 5/0\n",
    "\n",
    "try:\n",
    "    div()\n",
    "except ZeroDivisionError as ze:\n",
    "    print(\"division by zero!!\")\n",
    "except:\n",
    "    print(\"Other exception\")"
   ]
  },
  {
   "cell_type": "code",
   "execution_count": 8,
   "metadata": {},
   "outputs": [
    {
     "name": "stdout",
     "output_type": "stream",
     "text": [
      "Americans play Baseball\n",
      "Americans play Cricket\n",
      "Americans watch Baseball\n",
      "Americans watch Cricket\n",
      "Indians play Baseball\n",
      "Indians play Cricket\n",
      "Indians watch Baseball\n",
      "Indians watch Cricket\n"
     ]
    }
   ],
   "source": [
    "# Implement a Python program to generate all sentences where subject is in [\"Americans\",\n",
    "# \"Indians\"] and verb is in [\"Play\", \"watch\"] and the object is in [\"Baseball\",\"cricket\"].\n",
    "# Hint: Subject,Verb and Object should be declared in the program as shown below.\n",
    "# subjects=[\"Americans \",\"Indians\"]\n",
    "# verbs=[\"play\",\"watch\"]\n",
    "# objects=[\"Baseball\",\"Cricket\"]\n",
    "\n",
    "\n",
    "Subject=['Americans', 'Indians']\n",
    "Verb=['play', 'watch']\n",
    "Object=['Baseball', 'Cricket']\n",
    "All_sentences=[(sub +\" \"+ ver +\" \" + obj) for sub in Subject for ver in Verb for obj in Object]\n",
    "for sentence in All_sentences:\n",
    " print(sentence)"
   ]
  },
  {
   "cell_type": "code",
   "execution_count": 24,
   "metadata": {},
   "outputs": [
    {
     "name": "stdout",
     "output_type": "stream",
     "text": [
      "[[  8   4   2   1]\n",
      " [ 64  16   4   1]\n",
      " [216  36   6   1]\n",
      " [729  81   9   1]]\n"
     ]
    }
   ],
   "source": [
    "# Write a function so that the columns of the output matrix are powers of the input vector.\n",
    "# The order of the powers is determined by the increasing boolean argument. Specifically, when\n",
    "# increasing is False, the i-th output column is the input vector raised element-wise to the power\n",
    "# of N - i - 1.\n",
    "# HINT: Such a matrix with a geometric progression in each row is named for AlexandreTheophile Vandermonde.\n",
    "\n",
    "# Creating a matrix with output columns with input vectors(N)\n",
    "import numpy as np\n",
    "x = np.array([2,4,6,9]) \n",
    "N = 4\n",
    "y = np.column_stack([x**(N-1-i) for i in range(N)])\n",
    "print(y)\n",
    "\n",
    "\n"
   ]
  },
  {
   "cell_type": "code",
   "execution_count": 29,
   "metadata": {},
   "outputs": [
    {
     "name": "stdout",
     "output_type": "stream",
     "text": [
      "[[  8   4   2   1]\n",
      " [ 64  16   4   1]\n",
      " [216  36   6   1]\n",
      " [729  81   9   1]]\n"
     ]
    }
   ],
   "source": [
    "# Another matrix with np.vander function in numpy\n",
    "import numpy as np\n",
    "x = np.array([2,4,6,9])\n",
    "N = 4\n",
    "b = np.vander(x,N,increasing = False)\n",
    "print(b)\n",
    "\n"
   ]
  },
  {
   "cell_type": "code",
   "execution_count": 27,
   "metadata": {},
   "outputs": [
    {
     "data": {
      "text/plain": [
       "1680.0000000000016"
      ]
     },
     "execution_count": 27,
     "metadata": {},
     "output_type": "execute_result"
    }
   ],
   "source": [
    "# deterninant of both the matrices\n",
    "np.linalg.det(y)"
   ]
  },
  {
   "cell_type": "code",
   "execution_count": 30,
   "metadata": {},
   "outputs": [
    {
     "data": {
      "text/plain": [
       "1680.0000000000016"
      ]
     },
     "execution_count": 30,
     "metadata": {},
     "output_type": "execute_result"
    }
   ],
   "source": [
    "np.linalg.det(b)"
   ]
  },
  {
   "cell_type": "code",
   "execution_count": null,
   "metadata": {},
   "outputs": [],
   "source": []
  }
 ],
 "metadata": {
  "kernelspec": {
   "display_name": "Python 3",
   "language": "python",
   "name": "python3"
  },
  "language_info": {
   "codemirror_mode": {
    "name": "ipython",
    "version": 3
   },
   "file_extension": ".py",
   "mimetype": "text/x-python",
   "name": "python",
   "nbconvert_exporter": "python",
   "pygments_lexer": "ipython3",
   "version": "3.7.3"
  }
 },
 "nbformat": 4,
 "nbformat_minor": 2
}
